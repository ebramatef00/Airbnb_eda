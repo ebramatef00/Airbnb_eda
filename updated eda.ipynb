{
 "cells": [
  {
   "cell_type": "code",
   "execution_count": 17,
   "id": "d8abeeaf",
   "metadata": {},
   "outputs": [],
   "source": [
    "import pandas as pd\n",
    "import numpy as np\n",
    "import matplotlib.pyplot as plt\n",
    "import seaborn as sns\n"
   ]
  },
  {
   "cell_type": "markdown",
   "id": "ce7e186f",
   "metadata": {},
   "source": [
    "# import data"
   ]
  },
  {
   "cell_type": "code",
   "execution_count": 18,
   "id": "75ffb774",
   "metadata": {
    "scrolled": true
   },
   "outputs": [
    {
     "data": {
      "text/html": [
       "<div>\n",
       "<style scoped>\n",
       "    .dataframe tbody tr th:only-of-type {\n",
       "        vertical-align: middle;\n",
       "    }\n",
       "\n",
       "    .dataframe tbody tr th {\n",
       "        vertical-align: top;\n",
       "    }\n",
       "\n",
       "    .dataframe thead th {\n",
       "        text-align: right;\n",
       "    }\n",
       "</style>\n",
       "<table border=\"1\" class=\"dataframe\">\n",
       "  <thead>\n",
       "    <tr style=\"text-align: right;\">\n",
       "      <th></th>\n",
       "      <th>id</th>\n",
       "      <th>name</th>\n",
       "      <th>host_id</th>\n",
       "      <th>host_name</th>\n",
       "      <th>neighbourhood_group</th>\n",
       "      <th>neighbourhood</th>\n",
       "      <th>latitude</th>\n",
       "      <th>longitude</th>\n",
       "      <th>room_type</th>\n",
       "      <th>price</th>\n",
       "      <th>minimum_nights</th>\n",
       "      <th>number_of_reviews</th>\n",
       "      <th>last_review</th>\n",
       "      <th>reviews_per_month</th>\n",
       "      <th>calculated_host_listings_count</th>\n",
       "      <th>availability_365</th>\n",
       "      <th>number_of_reviews_ltm</th>\n",
       "      <th>license</th>\n",
       "    </tr>\n",
       "  </thead>\n",
       "  <tbody>\n",
       "    <tr>\n",
       "      <th>0</th>\n",
       "      <td>2818</td>\n",
       "      <td>Condo in Amsterdam · ★4.89 · 1 bedroom · 2 bed...</td>\n",
       "      <td>3159</td>\n",
       "      <td>Daniel</td>\n",
       "      <td>NaN</td>\n",
       "      <td>Oostelijk Havengebied - Indische Buurt</td>\n",
       "      <td>52.36435</td>\n",
       "      <td>4.94358</td>\n",
       "      <td>Private room</td>\n",
       "      <td>69</td>\n",
       "      <td>3</td>\n",
       "      <td>336</td>\n",
       "      <td>2023-05-31</td>\n",
       "      <td>1.95</td>\n",
       "      <td>1</td>\n",
       "      <td>7</td>\n",
       "      <td>40</td>\n",
       "      <td>NaN</td>\n",
       "    </tr>\n",
       "    <tr>\n",
       "      <th>1</th>\n",
       "      <td>20168</td>\n",
       "      <td>Townhouse in Amsterdam · ★4.44 · 1 bedroom · 1...</td>\n",
       "      <td>59484</td>\n",
       "      <td>Alexander</td>\n",
       "      <td>NaN</td>\n",
       "      <td>Centrum-Oost</td>\n",
       "      <td>52.36407</td>\n",
       "      <td>4.89393</td>\n",
       "      <td>Private room</td>\n",
       "      <td>106</td>\n",
       "      <td>1</td>\n",
       "      <td>339</td>\n",
       "      <td>2020-04-09</td>\n",
       "      <td>2.10</td>\n",
       "      <td>2</td>\n",
       "      <td>0</td>\n",
       "      <td>0</td>\n",
       "      <td>NaN</td>\n",
       "    </tr>\n",
       "    <tr>\n",
       "      <th>2</th>\n",
       "      <td>213371</td>\n",
       "      <td>Rental unit in Amsterdam · ★4.86 · 3 bedrooms ...</td>\n",
       "      <td>1100324</td>\n",
       "      <td>Hendrik</td>\n",
       "      <td>NaN</td>\n",
       "      <td>De Pijp - Rivierenbuurt</td>\n",
       "      <td>52.35150</td>\n",
       "      <td>4.89656</td>\n",
       "      <td>Entire home/apt</td>\n",
       "      <td>270</td>\n",
       "      <td>4</td>\n",
       "      <td>23</td>\n",
       "      <td>2023-01-08</td>\n",
       "      <td>0.16</td>\n",
       "      <td>1</td>\n",
       "      <td>2</td>\n",
       "      <td>1</td>\n",
       "      <td>0363 F88F 4B47 6E9B 225B</td>\n",
       "    </tr>\n",
       "    <tr>\n",
       "      <th>3</th>\n",
       "      <td>155548</td>\n",
       "      <td>Rental unit in Amsterdam · ★4.76 · 1 bedroom ·...</td>\n",
       "      <td>748161</td>\n",
       "      <td>Maria</td>\n",
       "      <td>NaN</td>\n",
       "      <td>Oud-Oost</td>\n",
       "      <td>52.36420</td>\n",
       "      <td>4.92829</td>\n",
       "      <td>Entire home/apt</td>\n",
       "      <td>200</td>\n",
       "      <td>3</td>\n",
       "      <td>21</td>\n",
       "      <td>2019-08-20</td>\n",
       "      <td>0.15</td>\n",
       "      <td>1</td>\n",
       "      <td>0</td>\n",
       "      <td>0</td>\n",
       "      <td>0363 A562 4D7E 4A91 60DF</td>\n",
       "    </tr>\n",
       "    <tr>\n",
       "      <th>4</th>\n",
       "      <td>27886</td>\n",
       "      <td>Houseboat in Amsterdam · ★4.94 · 1 bedroom · 1...</td>\n",
       "      <td>97647</td>\n",
       "      <td>Flip</td>\n",
       "      <td>NaN</td>\n",
       "      <td>Centrum-West</td>\n",
       "      <td>52.38761</td>\n",
       "      <td>4.89188</td>\n",
       "      <td>Private room</td>\n",
       "      <td>137</td>\n",
       "      <td>3</td>\n",
       "      <td>251</td>\n",
       "      <td>2023-05-01</td>\n",
       "      <td>1.81</td>\n",
       "      <td>1</td>\n",
       "      <td>0</td>\n",
       "      <td>20</td>\n",
       "      <td>NaN</td>\n",
       "    </tr>\n",
       "  </tbody>\n",
       "</table>\n",
       "</div>"
      ],
      "text/plain": [
       "       id                                               name  host_id  \\\n",
       "0    2818  Condo in Amsterdam · ★4.89 · 1 bedroom · 2 bed...     3159   \n",
       "1   20168  Townhouse in Amsterdam · ★4.44 · 1 bedroom · 1...    59484   \n",
       "2  213371  Rental unit in Amsterdam · ★4.86 · 3 bedrooms ...  1100324   \n",
       "3  155548  Rental unit in Amsterdam · ★4.76 · 1 bedroom ·...   748161   \n",
       "4   27886  Houseboat in Amsterdam · ★4.94 · 1 bedroom · 1...    97647   \n",
       "\n",
       "   host_name  neighbourhood_group                           neighbourhood  \\\n",
       "0     Daniel                  NaN  Oostelijk Havengebied - Indische Buurt   \n",
       "1  Alexander                  NaN                            Centrum-Oost   \n",
       "2    Hendrik                  NaN                 De Pijp - Rivierenbuurt   \n",
       "3      Maria                  NaN                                Oud-Oost   \n",
       "4       Flip                  NaN                            Centrum-West   \n",
       "\n",
       "   latitude  longitude        room_type  price  minimum_nights  \\\n",
       "0  52.36435    4.94358     Private room     69               3   \n",
       "1  52.36407    4.89393     Private room    106               1   \n",
       "2  52.35150    4.89656  Entire home/apt    270               4   \n",
       "3  52.36420    4.92829  Entire home/apt    200               3   \n",
       "4  52.38761    4.89188     Private room    137               3   \n",
       "\n",
       "   number_of_reviews last_review  reviews_per_month  \\\n",
       "0                336  2023-05-31               1.95   \n",
       "1                339  2020-04-09               2.10   \n",
       "2                 23  2023-01-08               0.16   \n",
       "3                 21  2019-08-20               0.15   \n",
       "4                251  2023-05-01               1.81   \n",
       "\n",
       "   calculated_host_listings_count  availability_365  number_of_reviews_ltm  \\\n",
       "0                               1                 7                     40   \n",
       "1                               2                 0                      0   \n",
       "2                               1                 2                      1   \n",
       "3                               1                 0                      0   \n",
       "4                               1                 0                     20   \n",
       "\n",
       "                    license  \n",
       "0                       NaN  \n",
       "1                       NaN  \n",
       "2  0363 F88F 4B47 6E9B 225B  \n",
       "3  0363 A562 4D7E 4A91 60DF  \n",
       "4                       NaN  "
      ]
     },
     "execution_count": 18,
     "metadata": {},
     "output_type": "execute_result"
    }
   ],
   "source": [
    "df=pd.read_csv(\"listings.csv\")\n",
    "df.head()"
   ]
  },
  {
   "cell_type": "markdown",
   "id": "e292f6ec",
   "metadata": {},
   "source": [
    "# Fast exploration data"
   ]
  },
  {
   "cell_type": "code",
   "execution_count": 19,
   "id": "319b42ba",
   "metadata": {},
   "outputs": [
    {
     "name": "stdout",
     "output_type": "stream",
     "text": [
      "<class 'pandas.core.frame.DataFrame'>\n",
      "RangeIndex: 7608 entries, 0 to 7607\n",
      "Data columns (total 18 columns):\n",
      " #   Column                          Non-Null Count  Dtype  \n",
      "---  ------                          --------------  -----  \n",
      " 0   id                              7608 non-null   int64  \n",
      " 1   name                            7608 non-null   object \n",
      " 2   host_id                         7608 non-null   int64  \n",
      " 3   host_name                       7608 non-null   object \n",
      " 4   neighbourhood_group             0 non-null      float64\n",
      " 5   neighbourhood                   7608 non-null   object \n",
      " 6   latitude                        7608 non-null   float64\n",
      " 7   longitude                       7608 non-null   float64\n",
      " 8   room_type                       7608 non-null   object \n",
      " 9   price                           7608 non-null   int64  \n",
      " 10  minimum_nights                  7608 non-null   int64  \n",
      " 11  number_of_reviews               7608 non-null   int64  \n",
      " 12  last_review                     6898 non-null   object \n",
      " 13  reviews_per_month               6898 non-null   float64\n",
      " 14  calculated_host_listings_count  7608 non-null   int64  \n",
      " 15  availability_365                7608 non-null   int64  \n",
      " 16  number_of_reviews_ltm           7608 non-null   int64  \n",
      " 17  license                         6474 non-null   object \n",
      "dtypes: float64(4), int64(8), object(6)\n",
      "memory usage: 1.0+ MB\n"
     ]
    }
   ],
   "source": [
    "df.info()"
   ]
  },
  {
   "cell_type": "code",
   "execution_count": 20,
   "id": "157516f1",
   "metadata": {},
   "outputs": [
    {
     "data": {
      "text/plain": [
       "(7608, 18)"
      ]
     },
     "execution_count": 20,
     "metadata": {},
     "output_type": "execute_result"
    }
   ],
   "source": [
    "df.shape"
   ]
  },
  {
   "cell_type": "code",
   "execution_count": 21,
   "id": "4d6e4b04",
   "metadata": {},
   "outputs": [
    {
     "data": {
      "text/html": [
       "<div>\n",
       "<style scoped>\n",
       "    .dataframe tbody tr th:only-of-type {\n",
       "        vertical-align: middle;\n",
       "    }\n",
       "\n",
       "    .dataframe tbody tr th {\n",
       "        vertical-align: top;\n",
       "    }\n",
       "\n",
       "    .dataframe thead th {\n",
       "        text-align: right;\n",
       "    }\n",
       "</style>\n",
       "<table border=\"1\" class=\"dataframe\">\n",
       "  <thead>\n",
       "    <tr style=\"text-align: right;\">\n",
       "      <th></th>\n",
       "      <th>neighbourhood_group</th>\n",
       "      <th>latitude</th>\n",
       "      <th>longitude</th>\n",
       "      <th>reviews_per_month</th>\n",
       "    </tr>\n",
       "  </thead>\n",
       "  <tbody>\n",
       "    <tr>\n",
       "      <th>count</th>\n",
       "      <td>0.0</td>\n",
       "      <td>7608.000</td>\n",
       "      <td>7608.000</td>\n",
       "      <td>6898.000</td>\n",
       "    </tr>\n",
       "    <tr>\n",
       "      <th>mean</th>\n",
       "      <td>NaN</td>\n",
       "      <td>52.367</td>\n",
       "      <td>4.890</td>\n",
       "      <td>1.170</td>\n",
       "    </tr>\n",
       "    <tr>\n",
       "      <th>std</th>\n",
       "      <td>NaN</td>\n",
       "      <td>0.017</td>\n",
       "      <td>0.035</td>\n",
       "      <td>2.353</td>\n",
       "    </tr>\n",
       "    <tr>\n",
       "      <th>min</th>\n",
       "      <td>NaN</td>\n",
       "      <td>52.290</td>\n",
       "      <td>4.756</td>\n",
       "      <td>0.010</td>\n",
       "    </tr>\n",
       "    <tr>\n",
       "      <th>25%</th>\n",
       "      <td>NaN</td>\n",
       "      <td>52.356</td>\n",
       "      <td>4.866</td>\n",
       "      <td>0.270</td>\n",
       "    </tr>\n",
       "    <tr>\n",
       "      <th>50%</th>\n",
       "      <td>NaN</td>\n",
       "      <td>52.366</td>\n",
       "      <td>4.888</td>\n",
       "      <td>0.560</td>\n",
       "    </tr>\n",
       "    <tr>\n",
       "      <th>75%</th>\n",
       "      <td>NaN</td>\n",
       "      <td>52.376</td>\n",
       "      <td>4.908</td>\n",
       "      <td>1.260</td>\n",
       "    </tr>\n",
       "    <tr>\n",
       "      <th>max</th>\n",
       "      <td>NaN</td>\n",
       "      <td>52.425</td>\n",
       "      <td>5.026</td>\n",
       "      <td>114.930</td>\n",
       "    </tr>\n",
       "  </tbody>\n",
       "</table>\n",
       "</div>"
      ],
      "text/plain": [
       "       neighbourhood_group  latitude  longitude  reviews_per_month\n",
       "count                  0.0  7608.000   7608.000           6898.000\n",
       "mean                   NaN    52.367      4.890              1.170\n",
       "std                    NaN     0.017      0.035              2.353\n",
       "min                    NaN    52.290      4.756              0.010\n",
       "25%                    NaN    52.356      4.866              0.270\n",
       "50%                    NaN    52.366      4.888              0.560\n",
       "75%                    NaN    52.376      4.908              1.260\n",
       "max                    NaN    52.425      5.026            114.930"
      ]
     },
     "execution_count": 21,
     "metadata": {},
     "output_type": "execute_result"
    }
   ],
   "source": [
    "df.describe(include=[\"float64\"]).round(3)"
   ]
  },
  {
   "cell_type": "markdown",
   "id": "581ba019",
   "metadata": {},
   "source": [
    "# Clean data\n"
   ]
  },
  {
   "cell_type": "code",
   "execution_count": 22,
   "id": "608f7ab3",
   "metadata": {},
   "outputs": [
    {
     "data": {
      "text/plain": [
       "id                                   0\n",
       "name                                 0\n",
       "host_id                              0\n",
       "host_name                            0\n",
       "neighbourhood_group               7608\n",
       "neighbourhood                        0\n",
       "latitude                             0\n",
       "longitude                            0\n",
       "room_type                            0\n",
       "price                                0\n",
       "minimum_nights                       0\n",
       "number_of_reviews                    0\n",
       "last_review                        710\n",
       "reviews_per_month                  710\n",
       "calculated_host_listings_count       0\n",
       "availability_365                     0\n",
       "number_of_reviews_ltm                0\n",
       "license                           1134\n",
       "dtype: int64"
      ]
     },
     "execution_count": 22,
     "metadata": {},
     "output_type": "execute_result"
    }
   ],
   "source": [
    "df.isna().sum()"
   ]
  },
  {
   "cell_type": "code",
   "execution_count": 23,
   "id": "b413d477",
   "metadata": {},
   "outputs": [],
   "source": [
    "df.drop(columns=[\"neighbourhood_group\"],inplace=True)\n"
   ]
  },
  {
   "cell_type": "code",
   "execution_count": 24,
   "id": "82d2e6c2",
   "metadata": {},
   "outputs": [
    {
     "name": "stdout",
     "output_type": "stream",
     "text": [
      "<class 'pandas.core.frame.DataFrame'>\n",
      "RangeIndex: 7608 entries, 0 to 7607\n",
      "Data columns (total 17 columns):\n",
      " #   Column                          Non-Null Count  Dtype  \n",
      "---  ------                          --------------  -----  \n",
      " 0   id                              7608 non-null   int64  \n",
      " 1   name                            7608 non-null   object \n",
      " 2   host_id                         7608 non-null   int64  \n",
      " 3   host_name                       7608 non-null   object \n",
      " 4   neighbourhood                   7608 non-null   object \n",
      " 5   latitude                        7608 non-null   float64\n",
      " 6   longitude                       7608 non-null   float64\n",
      " 7   room_type                       7608 non-null   object \n",
      " 8   price                           7608 non-null   int64  \n",
      " 9   minimum_nights                  7608 non-null   int64  \n",
      " 10  number_of_reviews               7608 non-null   int64  \n",
      " 11  last_review                     6898 non-null   object \n",
      " 12  reviews_per_month               6898 non-null   float64\n",
      " 13  calculated_host_listings_count  7608 non-null   int64  \n",
      " 14  availability_365                7608 non-null   int64  \n",
      " 15  number_of_reviews_ltm           7608 non-null   int64  \n",
      " 16  license                         6474 non-null   object \n",
      "dtypes: float64(3), int64(8), object(6)\n",
      "memory usage: 1010.6+ KB\n"
     ]
    }
   ],
   "source": [
    "df.info()"
   ]
  },
  {
   "cell_type": "code",
   "execution_count": 25,
   "id": "f96a0a7a",
   "metadata": {},
   "outputs": [
    {
     "data": {
      "text/plain": [
       "id                                   0\n",
       "name                                 0\n",
       "host_id                              0\n",
       "host_name                            0\n",
       "neighbourhood                        0\n",
       "latitude                             0\n",
       "longitude                            0\n",
       "room_type                            0\n",
       "price                                0\n",
       "minimum_nights                       0\n",
       "number_of_reviews                    0\n",
       "last_review                          0\n",
       "reviews_per_month                    0\n",
       "calculated_host_listings_count       0\n",
       "availability_365                     0\n",
       "number_of_reviews_ltm                0\n",
       "license                           1099\n",
       "dtype: int64"
      ]
     },
     "execution_count": 25,
     "metadata": {},
     "output_type": "execute_result"
    }
   ],
   "source": [
    "df.dropna(subset=\"reviews_per_month\",inplace=True)\n",
    "df.isna().sum()"
   ]
  },
  {
   "cell_type": "code",
   "execution_count": 26,
   "id": "a94b5f4a",
   "metadata": {},
   "outputs": [
    {
     "data": {
      "text/plain": [
       "id                                0\n",
       "name                              0\n",
       "host_id                           0\n",
       "host_name                         0\n",
       "neighbourhood                     0\n",
       "latitude                          0\n",
       "longitude                         0\n",
       "room_type                         0\n",
       "price                             0\n",
       "minimum_nights                    0\n",
       "number_of_reviews                 0\n",
       "last_review                       0\n",
       "reviews_per_month                 0\n",
       "calculated_host_listings_count    0\n",
       "availability_365                  0\n",
       "number_of_reviews_ltm             0\n",
       "license                           0\n",
       "dtype: int64"
      ]
     },
     "execution_count": 26,
     "metadata": {},
     "output_type": "execute_result"
    }
   ],
   "source": [
    "df.fillna(value=\"No license\",inplace=True)\n",
    "df.isna().sum()"
   ]
  },
  {
   "cell_type": "code",
   "execution_count": 27,
   "id": "bff99c7d",
   "metadata": {},
   "outputs": [
    {
     "ename": "SyntaxError",
     "evalue": "unexpected EOF while parsing (2146229752.py, line 1)",
     "output_type": "error",
     "traceback": [
      "\u001b[1;36m  Input \u001b[1;32mIn [27]\u001b[1;36m\u001b[0m\n\u001b[1;33m    df['last_review'] = pd.to_datetime(df['last_review']\u001b[0m\n\u001b[1;37m                                                        ^\u001b[0m\n\u001b[1;31mSyntaxError\u001b[0m\u001b[1;31m:\u001b[0m unexpected EOF while parsing\n"
     ]
    }
   ],
   "source": [
    "df['last_review'] = pd.to_datetime(df['last_review']"
   ]
  },
  {
   "cell_type": "code",
   "execution_count": 28,
   "id": "07c39816",
   "metadata": {},
   "outputs": [
    {
     "data": {
      "text/plain": [
       "0"
      ]
     },
     "execution_count": 28,
     "metadata": {},
     "output_type": "execute_result"
    }
   ],
   "source": [
    "# check if duplicated\n",
    "df.duplicated().sum()"
   ]
  },
  {
   "cell_type": "markdown",
   "id": "d5e29b54",
   "metadata": {},
   "source": [
    "# Explore data"
   ]
  },
  {
   "cell_type": "code",
   "execution_count": 29,
   "id": "04ab637e",
   "metadata": {},
   "outputs": [
    {
     "name": "stdout",
     "output_type": "stream",
     "text": [
      "<class 'pandas.core.frame.DataFrame'>\n",
      "Int64Index: 6898 entries, 0 to 7576\n",
      "Data columns (total 17 columns):\n",
      " #   Column                          Non-Null Count  Dtype  \n",
      "---  ------                          --------------  -----  \n",
      " 0   id                              6898 non-null   int64  \n",
      " 1   name                            6898 non-null   object \n",
      " 2   host_id                         6898 non-null   int64  \n",
      " 3   host_name                       6898 non-null   object \n",
      " 4   neighbourhood                   6898 non-null   object \n",
      " 5   latitude                        6898 non-null   float64\n",
      " 6   longitude                       6898 non-null   float64\n",
      " 7   room_type                       6898 non-null   object \n",
      " 8   price                           6898 non-null   int64  \n",
      " 9   minimum_nights                  6898 non-null   int64  \n",
      " 10  number_of_reviews               6898 non-null   int64  \n",
      " 11  last_review                     6898 non-null   object \n",
      " 12  reviews_per_month               6898 non-null   float64\n",
      " 13  calculated_host_listings_count  6898 non-null   int64  \n",
      " 14  availability_365                6898 non-null   int64  \n",
      " 15  number_of_reviews_ltm           6898 non-null   int64  \n",
      " 16  license                         6898 non-null   object \n",
      "dtypes: float64(3), int64(8), object(6)\n",
      "memory usage: 970.0+ KB\n"
     ]
    }
   ],
   "source": [
    "df.info()"
   ]
  },
  {
   "cell_type": "markdown",
   "id": "c705995a",
   "metadata": {},
   "source": [
    "### The distribution of the room type"
   ]
  },
  {
   "cell_type": "code",
   "execution_count": 52,
   "id": "0d35bce1",
   "metadata": {},
   "outputs": [
    {
     "data": {
      "text/plain": [
       "Entire home/apt    5149\n",
       "Private room       1653\n",
       "Hotel room           55\n",
       "Shared room          41\n",
       "Name: room_type, dtype: int64"
      ]
     },
     "execution_count": 52,
     "metadata": {},
     "output_type": "execute_result"
    }
   ],
   "source": [
    "df[\"room_type\"].value_counts()"
   ]
  },
  {
   "cell_type": "code",
   "execution_count": 53,
   "id": "6be65802",
   "metadata": {},
   "outputs": [
    {
     "data": {
      "text/plain": [
       "<AxesSubplot:>"
      ]
     },
     "execution_count": 53,
     "metadata": {},
     "output_type": "execute_result"
    },
    {
     "data": {
      "image/png": "[encoded data removed]",
      "text/plain": [
       "<Figure size 576x360 with 1 Axes>"
      ]
     },
     "metadata": {
      "needs_background": "light"
     },
     "output_type": "display_data"
    }
   ],
   "source": [
    "plt.figure(figsize=(8,5))\n",
    "df['room_type'].value_counts().plot(kind='bar')"
   ]
  },
  {
   "cell_type": "code",
   "execution_count": 55,
   "id": "55e0db98",
   "metadata": {},
   "outputs": [
    {
     "data": {
      "text/plain": [
       "<AxesSubplot:>"
      ]
     },
     "execution_count": 55,
     "metadata": {},
     "output_type": "execute_result"
    },
    {
     "data": {
      "image/png": "[encoded data removed]",
      "text/plain": [
       "<Figure size 720x576 with 2 Axes>"
      ]
     },
     "metadata": {
      "needs_background": "light"
     },
     "output_type": "display_data"
    }
   ],
   "source": [
    "matrix_corr=df.corr()\n",
    "plt.figure(figsize=(10,8))\n",
    "sns.heatmap(matrix_corr)"
   ]
  },
  {
   "cell_type": "markdown",
   "id": "d785e021",
   "metadata": {},
   "source": [
    "### get review count on avaialbility zero"
   ]
  },
  {
   "cell_type": "code",
   "execution_count": 56,
   "id": "4f673a4b",
   "metadata": {},
   "outputs": [
    {
     "data": {
      "text/plain": [
       "last_review\n",
       "2023-05-21    38\n",
       "2023-05-29    34\n",
       "2023-04-30    26\n",
       "2023-01-02    22\n",
       "2023-01-01    20\n",
       "2023-05-28    20\n",
       "2023-05-14    15\n",
       "2023-05-22    15\n",
       "2023-04-10    15\n",
       "2023-05-07    14\n",
       "2020-01-02    13\n",
       "2023-03-05    13\n",
       "2020-01-03    13\n",
       "2023-05-24    12\n",
       "2023-05-30    12\n",
       "2022-10-23    12\n",
       "2023-04-16    11\n",
       "2023-06-04    11\n",
       "2022-08-07    11\n",
       "2023-05-06    11\n",
       "dtype: int64"
      ]
     },
     "execution_count": 56,
     "metadata": {},
     "output_type": "execute_result"
    }
   ],
   "source": [
    "df[df['availability_365'] == 0].groupby(['last_review']).size().sort_values(ascending=False).head(20)"
   ]
  },
  {
   "cell_type": "markdown",
   "id": "2b54337b",
   "metadata": {},
   "source": [
    "### Top 10 Host name"
   ]
  },
  {
   "cell_type": "code",
   "execution_count": 57,
   "id": "301d429c",
   "metadata": {},
   "outputs": [
    {
     "data": {
      "text/plain": [
       "(array([0, 1, 2, 3, 4, 5, 6, 7, 8, 9]),\n",
       " [Text(0, 0, 'Maarten'),\n",
       "  Text(1, 0, 'Marcel'),\n",
       "  Text(2, 0, 'Thomas'),\n",
       "  Text(3, 0, 'David'),\n",
       "  Text(4, 0, 'Peter'),\n",
       "  Text(5, 0, 'Joost'),\n",
       "  Text(6, 0, 'Jeroen'),\n",
       "  Text(7, 0, 'Michiel'),\n",
       "  Text(8, 0, 'Mark'),\n",
       "  Text(9, 0, 'Suzanne')])"
      ]
     },
     "execution_count": 57,
     "metadata": {},
     "output_type": "execute_result"
    },
    {
     "data": {
      "image/png": "[encoded data removed]",
      "text/plain": [
       "<Figure size 432x288 with 1 Axes>"
      ]
     },
     "metadata": {
      "needs_background": "light"
     },
     "output_type": "display_data"
    }
   ],
   "source": [
    "sns.barplot(data = df,x=df['host_name'].value_counts().sort_values(ascending=False).iloc[:10].keys(),\n",
    "y = df['host_name'].value_counts().sort_values(ascending=False).iloc[:10])\n",
    "plt.title(' Top 10 Host Name ')\n",
    "plt.xlabel('Host Names')\n",
    "plt.ylabel('Host Perfomance')\n",
    "plt.xticks(rotation=45)\n"
   ]
  },
  {
   "cell_type": "markdown",
   "id": "9b8ece0c",
   "metadata": {},
   "source": [
    "###  reviews_per_month  vs  number_of_reviews"
   ]
  },
  {
   "cell_type": "code",
   "execution_count": 58,
   "id": "54a123c8",
   "metadata": {},
   "outputs": [
    {
     "data": {
      "text/plain": [
       "<matplotlib.collections.PathCollection at 0x2e976851130>"
      ]
     },
     "execution_count": 58,
     "metadata": {},
     "output_type": "execute_result"
    },
    {
     "data": {
      "image/png": "[encoded data removed]",
      "text/plain": [
       "<Figure size 432x288 with 1 Axes>"
      ]
     },
     "metadata": {
      "needs_background": "light"
     },
     "output_type": "display_data"
    }
   ],
   "source": [
    "plt.scatter(y=df[\"reviews_per_month\"],x=df[\"number_of_reviews\"])"
   ]
  },
  {
   "cell_type": "markdown",
   "id": "6bb98fa7",
   "metadata": {},
   "source": [
    "### Relationship between Type of Room and Price"
   ]
  },
  {
   "cell_type": "code",
   "execution_count": 54,
   "id": "8bd170d3",
   "metadata": {},
   "outputs": [
    {
     "data": {
      "text/plain": [
       "<matplotlib.collections.PathCollection at 0x2e97658eb50>"
      ]
     },
     "execution_count": 54,
     "metadata": {},
     "output_type": "execute_result"
    },
    {
     "data": {
      "image/png": "[encoded data removed]",
      "text/plain": [
       "<Figure size 432x288 with 2 Axes>"
      ]
     },
     "metadata": {
      "needs_background": "light"
     },
     "output_type": "display_data"
    }
   ],
   "source": [
    "plt.subplot(2,1,1)\n",
    "plt.scatter(x=df[\"room_type\"],y=df[\"price\"])\n",
    "plt.subplot(2,1,2)\n",
    "plt.scatter(x=df[\"longitude\"],y=df[\"price\"])"
   ]
  },
  {
   "cell_type": "code",
   "execution_count": 80,
   "id": "99dc76d0",
   "metadata": {},
   "outputs": [
    {
     "data": {
      "text/html": [
       "<div>\n",
       "<style scoped>\n",
       "    .dataframe tbody tr th:only-of-type {\n",
       "        vertical-align: middle;\n",
       "    }\n",
       "\n",
       "    .dataframe tbody tr th {\n",
       "        vertical-align: top;\n",
       "    }\n",
       "\n",
       "    .dataframe thead tr th {\n",
       "        text-align: left;\n",
       "    }\n",
       "\n",
       "    .dataframe thead tr:last-of-type th {\n",
       "        text-align: right;\n",
       "    }\n",
       "</style>\n",
       "<table border=\"1\" class=\"dataframe\">\n",
       "  <thead>\n",
       "    <tr>\n",
       "      <th></th>\n",
       "      <th>count</th>\n",
       "      <th>max</th>\n",
       "      <th>min</th>\n",
       "      <th>sum</th>\n",
       "    </tr>\n",
       "    <tr>\n",
       "      <th></th>\n",
       "      <th>price</th>\n",
       "      <th>price</th>\n",
       "      <th>price</th>\n",
       "      <th>price</th>\n",
       "    </tr>\n",
       "    <tr>\n",
       "      <th>room_type</th>\n",
       "      <th></th>\n",
       "      <th></th>\n",
       "      <th></th>\n",
       "      <th></th>\n",
       "    </tr>\n",
       "  </thead>\n",
       "  <tbody>\n",
       "    <tr>\n",
       "      <th>Entire home/apt</th>\n",
       "      <td>5149</td>\n",
       "      <td>10000</td>\n",
       "      <td>18</td>\n",
       "      <td>1364253</td>\n",
       "    </tr>\n",
       "    <tr>\n",
       "      <th>Hotel room</th>\n",
       "      <td>55</td>\n",
       "      <td>1089</td>\n",
       "      <td>0</td>\n",
       "      <td>13131</td>\n",
       "    </tr>\n",
       "    <tr>\n",
       "      <th>Private room</th>\n",
       "      <td>1653</td>\n",
       "      <td>2575</td>\n",
       "      <td>30</td>\n",
       "      <td>286389</td>\n",
       "    </tr>\n",
       "    <tr>\n",
       "      <th>Shared room</th>\n",
       "      <td>41</td>\n",
       "      <td>1150</td>\n",
       "      <td>50</td>\n",
       "      <td>6311</td>\n",
       "    </tr>\n",
       "  </tbody>\n",
       "</table>\n",
       "</div>"
      ],
      "text/plain": [
       "                count    max   min      sum\n",
       "                price  price price    price\n",
       "room_type                                  \n",
       "Entire home/apt  5149  10000    18  1364253\n",
       "Hotel room         55   1089     0    13131\n",
       "Private room     1653   2575    30   286389\n",
       "Shared room        41   1150    50     6311"
      ]
     },
     "execution_count": 80,
     "metadata": {},
     "output_type": "execute_result"
    }
   ],
   "source": [
    "df.pivot_table(index=\"room_type\",values=\"price\",aggfunc=[\"count\",\"max\",\"min\",\"sum\"])"
   ]
  },
  {
   "cell_type": "markdown",
   "id": "cd6d863b",
   "metadata": {},
   "source": [
    "### Know the most neighbourhood for each type"
   ]
  },
  {
   "cell_type": "code",
   "execution_count": 50,
   "id": "d9ac4e30",
   "metadata": {},
   "outputs": [
    {
     "name": "stderr",
     "output_type": "stream",
     "text": [
      "C:\\Users\\CS\\AppData\\Local\\Temp\\ipykernel_21148\\3255616955.py:1: FutureWarning: ['id'] did not aggregate successfully. If any error is raised this will raise in a future version of pandas. Drop these columns/ops to avoid this warning.\n",
      "  df.groupby('room_type').agg(pd.Series.mode)['neighbourhood'].sort_values(ascending=False)\n"
     ]
    },
    {
     "data": {
      "text/plain": [
       "room_type\n",
       "Shared room                     Oud-Noord\n",
       "Entire home/apt    De Baarsjes - Oud-West\n",
       "Hotel room                   Centrum-West\n",
       "Private room                 Centrum-West\n",
       "Name: neighbourhood, dtype: object"
      ]
     },
     "execution_count": 50,
     "metadata": {},
     "output_type": "execute_result"
    }
   ],
   "source": [
    "df.groupby('room_type').agg(pd.Series.mode)['neighbourhood'].sort_values(ascending=False)"
   ]
  },
  {
   "cell_type": "markdown",
   "id": "28d7c659",
   "metadata": {},
   "source": [
    "### License VS No license"
   ]
  },
  {
   "cell_type": "code",
   "execution_count": 59,
   "id": "5136e17c",
   "metadata": {},
   "outputs": [
    {
     "data": {
      "text/plain": [
       "Text(0.5, 1.0, 'Distribution of License vs. No license Listings')"
      ]
     },
     "execution_count": 59,
     "metadata": {},
     "output_type": "execute_result"
    },
    {
     "data": {
      "image/png": "[encoded data removed]",
      "text/plain": [
       "<Figure size 576x432 with 1 Axes>"
      ]
     },
     "metadata": {
      "needs_background": "light"
     },
     "output_type": "display_data"
    }
   ],
   "source": [
    "license_counts = df['license'].map({\"No license\": False}).fillna(True)\n",
    "license_counts = license_counts.value_counts()\n",
    "plt.figure(figsize=(8, 6))\n",
    "license_counts.plot(kind='bar')\n",
    "plt.title('Distribution of License vs. No license Listings')"
   ]
  },
  {
   "cell_type": "code",
   "execution_count": 76,
   "id": "efecdae9",
   "metadata": {},
   "outputs": [
    {
     "data": {
      "text/plain": [
       "Text(0, 0.5, 'Price')"
      ]
     },
     "execution_count": 76,
     "metadata": {},
     "output_type": "execute_result"
    },
    {
     "data": {
      "image/png": "[encoded data removed]",
      "text/plain": [
       "<Figure size 1080x576 with 1 Axes>"
      ]
     },
     "metadata": {
      "needs_background": "light"
     },
     "output_type": "display_data"
    }
   ],
   "source": [
    "plt.figure(figsize=(15,8))\n",
    "df.sort_values('last_review', inplace=True)\n",
    "plt.plot(df['last_review'], df['price'])\n",
    "plt.title('Price vs Time')\n",
    "plt.xlabel('Date')\n",
    "plt.ylabel('Price')"
   ]
  },
  {
   "cell_type": "code",
   "execution_count": 78,
   "id": "c8dc6b41",
   "metadata": {},
   "outputs": [
    {
     "data": {
      "text/plain": [
       "Text(0, 0.5, 'number_of_reviews')"
      ]
     },
     "execution_count": 78,
     "metadata": {},
     "output_type": "execute_result"
    },
    {
     "data": {
      "image/png": "[encoded data removed]",
      "text/plain": [
       "<Figure size 1080x576 with 1 Axes>"
      ]
     },
     "metadata": {
      "needs_background": "light"
     },
     "output_type": "display_data"
    }
   ],
   "source": [
    "plt.figure(figsize=(15,8))\n",
    "df.sort_values('last_review', inplace=True)\n",
    "plt.plot(df['last_review'], df['number_of_reviews'])\n",
    "plt.title('Price vs Time')\n",
    "plt.xlabel('Date')\n",
    "plt.ylabel('number_of_reviews')"
   ]
  },
  {
   "cell_type": "markdown",
   "id": "f6ab1d37",
   "metadata": {},
   "source": [
    "### Learn the relation between neighbourhood, room, price"
   ]
  },
  {
   "cell_type": "code",
   "execution_count": 67,
   "id": "718ec8e3",
   "metadata": {},
   "outputs": [
    {
     "data": {
      "text/html": [
       "<div>\n",
       "<style scoped>\n",
       "    .dataframe tbody tr th:only-of-type {\n",
       "        vertical-align: middle;\n",
       "    }\n",
       "\n",
       "    .dataframe tbody tr th {\n",
       "        vertical-align: top;\n",
       "    }\n",
       "\n",
       "    .dataframe thead th {\n",
       "        text-align: right;\n",
       "    }\n",
       "</style>\n",
       "<table border=\"1\" class=\"dataframe\">\n",
       "  <thead>\n",
       "    <tr style=\"text-align: right;\">\n",
       "      <th></th>\n",
       "      <th>neighbourhood</th>\n",
       "      <th>room_type</th>\n",
       "      <th>price</th>\n",
       "    </tr>\n",
       "  </thead>\n",
       "  <tbody>\n",
       "    <tr>\n",
       "      <th>13</th>\n",
       "      <td>Centrum-West</td>\n",
       "      <td>Entire home/apt</td>\n",
       "      <td>10000</td>\n",
       "    </tr>\n",
       "    <tr>\n",
       "      <th>34</th>\n",
       "      <td>IJburg - Zeeburgereiland</td>\n",
       "      <td>Private room</td>\n",
       "      <td>2575</td>\n",
       "    </tr>\n",
       "    <tr>\n",
       "      <th>20</th>\n",
       "      <td>De Baarsjes - Oud-West</td>\n",
       "      <td>Entire home/apt</td>\n",
       "      <td>2500</td>\n",
       "    </tr>\n",
       "    <tr>\n",
       "      <th>9</th>\n",
       "      <td>Centrum-Oost</td>\n",
       "      <td>Entire home/apt</td>\n",
       "      <td>2083</td>\n",
       "    </tr>\n",
       "    <tr>\n",
       "      <th>41</th>\n",
       "      <td>Oostelijk Havengebied - Indische Buurt</td>\n",
       "      <td>Entire home/apt</td>\n",
       "      <td>1643</td>\n",
       "    </tr>\n",
       "    <tr>\n",
       "      <th>24</th>\n",
       "      <td>De Pijp - Rivierenbuurt</td>\n",
       "      <td>Entire home/apt</td>\n",
       "      <td>1250</td>\n",
       "    </tr>\n",
       "    <tr>\n",
       "      <th>45</th>\n",
       "      <td>Oud-Noord</td>\n",
       "      <td>Entire home/apt</td>\n",
       "      <td>1246</td>\n",
       "    </tr>\n",
       "    <tr>\n",
       "      <th>58</th>\n",
       "      <td>Westerpark</td>\n",
       "      <td>Entire home/apt</td>\n",
       "      <td>1239</td>\n",
       "    </tr>\n",
       "    <tr>\n",
       "      <th>52</th>\n",
       "      <td>Oud-Oost</td>\n",
       "      <td>Shared room</td>\n",
       "      <td>1150</td>\n",
       "    </tr>\n",
       "    <tr>\n",
       "      <th>50</th>\n",
       "      <td>Oud-Oost</td>\n",
       "      <td>Hotel room</td>\n",
       "      <td>1089</td>\n",
       "    </tr>\n",
       "  </tbody>\n",
       "</table>\n",
       "</div>"
      ],
      "text/plain": [
       "                             neighbourhood        room_type  price\n",
       "13                            Centrum-West  Entire home/apt  10000\n",
       "34                IJburg - Zeeburgereiland     Private room   2575\n",
       "20                  De Baarsjes - Oud-West  Entire home/apt   2500\n",
       "9                             Centrum-Oost  Entire home/apt   2083\n",
       "41  Oostelijk Havengebied - Indische Buurt  Entire home/apt   1643\n",
       "24                 De Pijp - Rivierenbuurt  Entire home/apt   1250\n",
       "45                               Oud-Noord  Entire home/apt   1246\n",
       "58                              Westerpark  Entire home/apt   1239\n",
       "52                                Oud-Oost      Shared room   1150\n",
       "50                                Oud-Oost       Hotel room   1089"
      ]
     },
     "execution_count": 67,
     "metadata": {},
     "output_type": "execute_result"
    }
   ],
   "source": [
    "neighbourhood_room_price = df.groupby(['neighbourhood','room_type'])['price'].max().reset_index().sort_values(\"price\",ascending=False).head(10)\n",
    "\n",
    "neighbourhood_room_price"
   ]
  },
  {
   "cell_type": "code",
   "execution_count": 68,
   "id": "9762fdc8",
   "metadata": {},
   "outputs": [
    {
     "data": {
      "text/html": [
       "<div>\n",
       "<style scoped>\n",
       "    .dataframe tbody tr th:only-of-type {\n",
       "        vertical-align: middle;\n",
       "    }\n",
       "\n",
       "    .dataframe tbody tr th {\n",
       "        vertical-align: top;\n",
       "    }\n",
       "\n",
       "    .dataframe thead th {\n",
       "        text-align: right;\n",
       "    }\n",
       "</style>\n",
       "<table border=\"1\" class=\"dataframe\">\n",
       "  <thead>\n",
       "    <tr style=\"text-align: right;\">\n",
       "      <th></th>\n",
       "      <th>neighbourhood</th>\n",
       "      <th>room_type</th>\n",
       "      <th>price</th>\n",
       "    </tr>\n",
       "  </thead>\n",
       "  <tbody>\n",
       "    <tr>\n",
       "      <th>52</th>\n",
       "      <td>Oud-Oost</td>\n",
       "      <td>Shared room</td>\n",
       "      <td>433.666667</td>\n",
       "    </tr>\n",
       "    <tr>\n",
       "      <th>10</th>\n",
       "      <td>Centrum-Oost</td>\n",
       "      <td>Hotel room</td>\n",
       "      <td>429.000000</td>\n",
       "    </tr>\n",
       "    <tr>\n",
       "      <th>13</th>\n",
       "      <td>Centrum-West</td>\n",
       "      <td>Entire home/apt</td>\n",
       "      <td>358.240631</td>\n",
       "    </tr>\n",
       "    <tr>\n",
       "      <th>50</th>\n",
       "      <td>Oud-Oost</td>\n",
       "      <td>Hotel room</td>\n",
       "      <td>353.000000</td>\n",
       "    </tr>\n",
       "    <tr>\n",
       "      <th>9</th>\n",
       "      <td>Centrum-Oost</td>\n",
       "      <td>Entire home/apt</td>\n",
       "      <td>333.244804</td>\n",
       "    </tr>\n",
       "    <tr>\n",
       "      <th>62</th>\n",
       "      <td>Zuid</td>\n",
       "      <td>Entire home/apt</td>\n",
       "      <td>286.248538</td>\n",
       "    </tr>\n",
       "    <tr>\n",
       "      <th>24</th>\n",
       "      <td>De Pijp - Rivierenbuurt</td>\n",
       "      <td>Entire home/apt</td>\n",
       "      <td>280.641452</td>\n",
       "    </tr>\n",
       "    <tr>\n",
       "      <th>33</th>\n",
       "      <td>IJburg - Zeeburgereiland</td>\n",
       "      <td>Entire home/apt</td>\n",
       "      <td>257.643564</td>\n",
       "    </tr>\n",
       "    <tr>\n",
       "      <th>20</th>\n",
       "      <td>De Baarsjes - Oud-West</td>\n",
       "      <td>Entire home/apt</td>\n",
       "      <td>257.601047</td>\n",
       "    </tr>\n",
       "    <tr>\n",
       "      <th>45</th>\n",
       "      <td>Oud-Noord</td>\n",
       "      <td>Entire home/apt</td>\n",
       "      <td>247.623853</td>\n",
       "    </tr>\n",
       "  </tbody>\n",
       "</table>\n",
       "</div>"
      ],
      "text/plain": [
       "               neighbourhood        room_type       price\n",
       "52                  Oud-Oost      Shared room  433.666667\n",
       "10              Centrum-Oost       Hotel room  429.000000\n",
       "13              Centrum-West  Entire home/apt  358.240631\n",
       "50                  Oud-Oost       Hotel room  353.000000\n",
       "9               Centrum-Oost  Entire home/apt  333.244804\n",
       "62                      Zuid  Entire home/apt  286.248538\n",
       "24   De Pijp - Rivierenbuurt  Entire home/apt  280.641452\n",
       "33  IJburg - Zeeburgereiland  Entire home/apt  257.643564\n",
       "20    De Baarsjes - Oud-West  Entire home/apt  257.601047\n",
       "45                 Oud-Noord  Entire home/apt  247.623853"
      ]
     },
     "execution_count": 68,
     "metadata": {},
     "output_type": "execute_result"
    }
   ],
   "source": [
    "neighbourhood_room_price = df.groupby(['neighbourhood','room_type'])['price'].mean().reset_index().sort_values(\"price\",ascending=False).head(10)\n",
    "\n",
    "neighbourhood_room_price"
   ]
  },
  {
   "cell_type": "code",
   "execution_count": 69,
   "id": "a4da278c",
   "metadata": {},
   "outputs": [
    {
     "data": {
      "text/html": [
       "<div>\n",
       "<style scoped>\n",
       "    .dataframe tbody tr th:only-of-type {\n",
       "        vertical-align: middle;\n",
       "    }\n",
       "\n",
       "    .dataframe tbody tr th {\n",
       "        vertical-align: top;\n",
       "    }\n",
       "\n",
       "    .dataframe thead th {\n",
       "        text-align: right;\n",
       "    }\n",
       "</style>\n",
       "<table border=\"1\" class=\"dataframe\">\n",
       "  <thead>\n",
       "    <tr style=\"text-align: right;\">\n",
       "      <th></th>\n",
       "      <th>neighbourhood</th>\n",
       "      <th>room_type</th>\n",
       "      <th>price</th>\n",
       "    </tr>\n",
       "  </thead>\n",
       "  <tbody>\n",
       "    <tr>\n",
       "      <th>10</th>\n",
       "      <td>Centrum-Oost</td>\n",
       "      <td>Hotel room</td>\n",
       "      <td>215</td>\n",
       "    </tr>\n",
       "    <tr>\n",
       "      <th>50</th>\n",
       "      <td>Oud-Oost</td>\n",
       "      <td>Hotel room</td>\n",
       "      <td>166</td>\n",
       "    </tr>\n",
       "    <tr>\n",
       "      <th>25</th>\n",
       "      <td>De Pijp - Rivierenbuurt</td>\n",
       "      <td>Hotel room</td>\n",
       "      <td>165</td>\n",
       "    </tr>\n",
       "    <tr>\n",
       "      <th>59</th>\n",
       "      <td>Westerpark</td>\n",
       "      <td>Hotel room</td>\n",
       "      <td>160</td>\n",
       "    </tr>\n",
       "    <tr>\n",
       "      <th>29</th>\n",
       "      <td>Gaasperdam - Driemond</td>\n",
       "      <td>Hotel room</td>\n",
       "      <td>147</td>\n",
       "    </tr>\n",
       "    <tr>\n",
       "      <th>46</th>\n",
       "      <td>Oud-Noord</td>\n",
       "      <td>Hotel room</td>\n",
       "      <td>144</td>\n",
       "    </tr>\n",
       "    <tr>\n",
       "      <th>2</th>\n",
       "      <td>Bijlmer-Oost</td>\n",
       "      <td>Entire home/apt</td>\n",
       "      <td>120</td>\n",
       "    </tr>\n",
       "    <tr>\n",
       "      <th>23</th>\n",
       "      <td>De Baarsjes - Oud-West</td>\n",
       "      <td>Shared room</td>\n",
       "      <td>118</td>\n",
       "    </tr>\n",
       "    <tr>\n",
       "      <th>40</th>\n",
       "      <td>Noord-West</td>\n",
       "      <td>Shared room</td>\n",
       "      <td>110</td>\n",
       "    </tr>\n",
       "    <tr>\n",
       "      <th>14</th>\n",
       "      <td>Centrum-West</td>\n",
       "      <td>Hotel room</td>\n",
       "      <td>97</td>\n",
       "    </tr>\n",
       "  </tbody>\n",
       "</table>\n",
       "</div>"
      ],
      "text/plain": [
       "              neighbourhood        room_type  price\n",
       "10             Centrum-Oost       Hotel room    215\n",
       "50                 Oud-Oost       Hotel room    166\n",
       "25  De Pijp - Rivierenbuurt       Hotel room    165\n",
       "59               Westerpark       Hotel room    160\n",
       "29    Gaasperdam - Driemond       Hotel room    147\n",
       "46                Oud-Noord       Hotel room    144\n",
       "2              Bijlmer-Oost  Entire home/apt    120\n",
       "23   De Baarsjes - Oud-West      Shared room    118\n",
       "40               Noord-West      Shared room    110\n",
       "14             Centrum-West       Hotel room     97"
      ]
     },
     "execution_count": 69,
     "metadata": {},
     "output_type": "execute_result"
    }
   ],
   "source": [
    "neighbourhood_room_price = df.groupby(['neighbourhood','room_type'])['price'].min().reset_index().sort_values(\"price\",ascending=False).head(10)\n",
    "\n",
    "neighbourhood_room_price"
   ]
  },
  {
   "cell_type": "markdown",
   "id": "9ee6acd1",
   "metadata": {},
   "source": [
    "### top 5 hosts with most reviews"
   ]
  },
  {
   "cell_type": "code",
   "execution_count": 70,
   "id": "a41bf978",
   "metadata": {},
   "outputs": [
    {
     "data": {
      "text/html": [
       "<div>\n",
       "<style scoped>\n",
       "    .dataframe tbody tr th:only-of-type {\n",
       "        vertical-align: middle;\n",
       "    }\n",
       "\n",
       "    .dataframe tbody tr th {\n",
       "        vertical-align: top;\n",
       "    }\n",
       "\n",
       "    .dataframe thead th {\n",
       "        text-align: right;\n",
       "    }\n",
       "</style>\n",
       "<table border=\"1\" class=\"dataframe\">\n",
       "  <thead>\n",
       "    <tr style=\"text-align: right;\">\n",
       "      <th></th>\n",
       "      <th>number_of_reviews</th>\n",
       "    </tr>\n",
       "    <tr>\n",
       "      <th>host_name</th>\n",
       "      <th></th>\n",
       "    </tr>\n",
       "  </thead>\n",
       "  <tbody>\n",
       "    <tr>\n",
       "      <th>Maarten</th>\n",
       "      <td>37</td>\n",
       "    </tr>\n",
       "    <tr>\n",
       "      <th>Marcel</th>\n",
       "      <td>34</td>\n",
       "    </tr>\n",
       "    <tr>\n",
       "      <th>Thomas</th>\n",
       "      <td>33</td>\n",
       "    </tr>\n",
       "    <tr>\n",
       "      <th>David</th>\n",
       "      <td>32</td>\n",
       "    </tr>\n",
       "    <tr>\n",
       "      <th>Peter</th>\n",
       "      <td>31</td>\n",
       "    </tr>\n",
       "  </tbody>\n",
       "</table>\n",
       "</div>"
      ],
      "text/plain": [
       "           number_of_reviews\n",
       "host_name                   \n",
       "Maarten                   37\n",
       "Marcel                    34\n",
       "Thomas                    33\n",
       "David                     32\n",
       "Peter                     31"
      ]
     },
     "execution_count": 70,
     "metadata": {},
     "output_type": "execute_result"
    }
   ],
   "source": [
    "df.groupby(['host_name']).size().sort_values(ascending=False).to_frame(name = \"number_of_reviews\").head(5)\n"
   ]
  },
  {
   "cell_type": "markdown",
   "id": "6e43c3d2",
   "metadata": {},
   "source": [
    "### Neighbourhood Distribution"
   ]
  },
  {
   "cell_type": "code",
   "execution_count": 77,
   "id": "87d532bb",
   "metadata": {},
   "outputs": [
    {
     "data": {
      "image/png": "[encoded data removed]",
      "text/plain": [
       "<Figure size 432x288 with 1 Axes>"
      ]
     },
     "metadata": {
      "needs_background": "light"
     },
     "output_type": "display_data"
    }
   ],
   "source": [
    "sns.countplot(x='neighbourhood', data=df, order=df['neighbourhood'].value_counts().index)\n",
    "plt.title(\"Neighbourhood Distribution\")\n",
    "plt.xticks(rotation=90)\n",
    "plt.show()"
   ]
  },
  {
   "cell_type": "code",
   "execution_count": null,
   "id": "5c0acaf3",
   "metadata": {},
   "outputs": [],
   "source": []
  },
  {
   "cell_type": "code",
   "execution_count": null,
   "id": "5542e131",
   "metadata": {},
   "outputs": [],
   "source": []
  }
 ],
 "metadata": {
  "kernelspec": {
   "display_name": "Python 3 (ipykernel)",
   "language": "python",
   "name": "python3"
  },
  "language_info": {
   "codemirror_mode": {
    "name": "ipython",
    "version": 3
   },
   "file_extension": ".py",
   "mimetype": "text/x-python",
   "name": "python",
   "nbconvert_exporter": "python",
   "pygments_lexer": "ipython3",
   "version": "3.9.12"
  }
 },
 "nbformat": 4,
 "nbformat_minor": 5
}
